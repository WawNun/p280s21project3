{
 "cells": [
  {
   "cell_type": "markdown",
   "id": "84881a97",
   "metadata": {},
   "source": [
    "## Visualizing EPA EJSCREEN Data"
   ]
  },
  {
   "cell_type": "markdown",
   "id": "7e9804c9",
   "metadata": {},
   "source": [
    "### Step 1: Download software "
   ]
  },
  {
   "cell_type": "code",
   "execution_count": 34,
   "id": "997c73da",
   "metadata": {},
   "outputs": [],
   "source": [
    "# Import software\n",
    "\n",
    "import pandas as pd\n",
    "import geopandas as gpd \n",
    "import matplotlib.pyplot as plt \n",
    "import contextily as ctx\n",
    "import numpy as np\n",
    "import quilt3\n",
    "from geopandas_view import view "
   ]
  },
  {
   "cell_type": "code",
   "execution_count": 35,
   "id": "114896a8",
   "metadata": {},
   "outputs": [],
   "source": [
    "### Step 3: Retrieve and Adjust Data"
   ]
  },
  {
   "cell_type": "code",
   "execution_count": 36,
   "id": "abfc6248",
   "metadata": {},
   "outputs": [
    {
     "name": "stderr",
     "output_type": "stream",
     "text": [
      "100%|██████████| 146M/146M [00:10<00:00, 14.6MB/s] \n"
     ]
    }
   ],
   "source": [
    "# Retrieve EPA EJ Screen data from UCR CGS Quilt Bucket\n",
    "\n",
    "b = quilt3.Bucket(\"s3://spatial-ucr\")\n",
    "b.fetch(\"epa/ejscreen/ejscreen_2020.parquet\", \"./ejscreen_2020.parquet\"), \n",
    "ej = pd.read_parquet('ejscreen_2020.parquet')"
   ]
  },
  {
   "cell_type": "code",
   "execution_count": null,
   "id": "932de364",
   "metadata": {},
   "outputs": [],
   "source": [
    "# Download USA Census block groups from the 2018 ACS via Quilt\n",
    "\n",
    "geoms = gpd.read_parquet('s3://spatial-ucr/census/acs/acs_2018_bg.parquet', columns=['geometry'])"
   ]
  },
  {
   "cell_type": "code",
   "execution_count": null,
   "id": "e2561dd9",
   "metadata": {},
   "outputs": [],
   "source": [
    "# Merge EJ and ACA data sets\n",
    "\n",
    "ej = gpd.GeoDataFrame(ej.merge(geoms, left_on='ID', right_index=True))"
   ]
  },
  {
   "cell_type": "code",
   "execution_count": null,
   "id": "a5735818",
   "metadata": {},
   "outputs": [],
   "source": [
    "# Filter EJ Screen data so it only displays CA\n",
    "\n",
    "ca_ej = ej[ej.ID.str.startswith('06')]"
   ]
  },
  {
   "cell_type": "markdown",
   "id": "6397dd49",
   "metadata": {},
   "source": [
    "### Step 4 (OPTIONAL): Download EJ Data Output (HTML)"
   ]
  },
  {
   "cell_type": "code",
   "execution_count": null,
   "id": "527cd94f",
   "metadata": {},
   "outputs": [],
   "source": [
    "# delete hastags to run command\n",
    "\n",
    "# data, metadata = get_ipython().display_formatter.format(ej)\n",
    "# with open('EJDataTable.html', 'w') as f:\n",
    "#    f.write(data['text/html'])"
   ]
  },
  {
   "cell_type": "markdown",
   "id": "d5e9669b",
   "metadata": {},
   "source": [
    "### Step 5: Isolate EJ Index of Interest & Visualize"
   ]
  },
  {
   "cell_type": "code",
   "execution_count": null,
   "id": "17e8f88c",
   "metadata": {},
   "outputs": [],
   "source": [
    "# Filter out EJ Index for Air toxics respiratory hazard index\n",
    "\n",
    "D_RESP_2 = ca_ej.D_RESP_2 \n",
    "\n",
    "ca_ej.D_RESP_2 = D_RESP_2.replace(to_replace= \"None\", value=np.nan).astype(float)"
   ]
  },
  {
   "cell_type": "code",
   "execution_count": null,
   "id": "d922ccbc",
   "metadata": {},
   "outputs": [],
   "source": [
    "# Create variable for Riverside County\n",
    "\n",
    "riverside = ca_ej[ca_ej.ID.str.startswith(\"06065\")]"
   ]
  },
  {
   "cell_type": "code",
   "execution_count": null,
   "id": "ee264e43",
   "metadata": {},
   "outputs": [],
   "source": [
    "# Subset EJ Data for riverside county \n",
    "\n",
    "view(riverside, column='D_RESP_2', scheme='quantiles', tooltip=['D_RESP_2'])"
   ]
  }
 ],
 "metadata": {
  "kernelspec": {
   "display_name": "Python 3",
   "language": "python",
   "name": "python3"
  },
  "language_info": {
   "codemirror_mode": {
    "name": "ipython",
    "version": 3
   },
   "file_extension": ".py",
   "mimetype": "text/x-python",
   "name": "python",
   "nbconvert_exporter": "python",
   "pygments_lexer": "ipython3",
   "version": "3.7.3"
  }
 },
 "nbformat": 4,
 "nbformat_minor": 5
}
