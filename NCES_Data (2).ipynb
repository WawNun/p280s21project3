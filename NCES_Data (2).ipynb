{
 "cells": [
  {
   "cell_type": "code",
   "execution_count": 14,
   "id": "d8ad8d68",
   "metadata": {},
   "outputs": [],
   "source": [
    "import pandas as pd\n",
    "import geopandas as gpd \n",
    "import matplotlib.pyplot as plt \n",
    "import contextily as ctx\n",
    "from geopandas_view import view"
   ]
  },
  {
   "cell_type": "code",
   "execution_count": 24,
   "id": "401bbee6",
   "metadata": {},
   "outputs": [
    {
     "name": "stderr",
     "output_type": "stream",
     "text": [
      "100%|██████████| 8.30M/8.30M [00:04<00:00, 2.05MB/s]\n"
     ]
    }
   ],
   "source": [
    "import quilt3\n",
    "b = quilt3.Bucket(\"s3://spatial-ucr\")\n",
    "b.fetch(\"nces/schools/schools_1718.parquet\", \"NCES_Data_Folder/schools_1718.parquet\")"
   ]
  },
  {
   "cell_type": "code",
   "execution_count": 25,
   "id": "64d2403e",
   "metadata": {},
   "outputs": [],
   "source": [
    "schools = gpd.read_parquet('s3://spatial-ucr/nces/schools/schools_1718.parquet')"
   ]
  },
  {
   "cell_type": "code",
   "execution_count": 27,
   "id": "837d8c03",
   "metadata": {},
   "outputs": [
    {
     "data": {
      "text/html": [
       "<div>\n",
       "<style scoped>\n",
       "    .dataframe tbody tr th:only-of-type {\n",
       "        vertical-align: middle;\n",
       "    }\n",
       "\n",
       "    .dataframe tbody tr th {\n",
       "        vertical-align: top;\n",
       "    }\n",
       "\n",
       "    .dataframe thead th {\n",
       "        text-align: right;\n",
       "    }\n",
       "</style>\n",
       "<table border=\"1\" class=\"dataframe\">\n",
       "  <thead>\n",
       "    <tr style=\"text-align: right;\">\n",
       "      <th></th>\n",
       "      <th>NCESSCH</th>\n",
       "      <th>NAME</th>\n",
       "      <th>OPSTFIPS</th>\n",
       "      <th>STREET</th>\n",
       "      <th>CITY</th>\n",
       "      <th>STATE</th>\n",
       "      <th>ZIP</th>\n",
       "      <th>STFIP</th>\n",
       "      <th>CNTY</th>\n",
       "      <th>NMCNTY</th>\n",
       "      <th>...</th>\n",
       "      <th>CBSATYPE</th>\n",
       "      <th>CSA</th>\n",
       "      <th>NMCSA</th>\n",
       "      <th>NECTA</th>\n",
       "      <th>NMNECTA</th>\n",
       "      <th>CD</th>\n",
       "      <th>SLDL</th>\n",
       "      <th>SLDU</th>\n",
       "      <th>SCHOOLYEAR</th>\n",
       "      <th>geometry</th>\n",
       "    </tr>\n",
       "  </thead>\n",
       "  <tbody>\n",
       "    <tr>\n",
       "      <th>0</th>\n",
       "      <td>010000500870</td>\n",
       "      <td>Albertville Middle School</td>\n",
       "      <td>01</td>\n",
       "      <td>600 E Alabama Ave</td>\n",
       "      <td>Albertville</td>\n",
       "      <td>AL</td>\n",
       "      <td>35950</td>\n",
       "      <td>01</td>\n",
       "      <td>01095</td>\n",
       "      <td>Marshall County</td>\n",
       "      <td>...</td>\n",
       "      <td>2</td>\n",
       "      <td>290</td>\n",
       "      <td>Huntsville-Decatur-Albertville, AL</td>\n",
       "      <td>N</td>\n",
       "      <td>N</td>\n",
       "      <td>0104</td>\n",
       "      <td>01026</td>\n",
       "      <td>01009</td>\n",
       "      <td>2017-2018</td>\n",
       "      <td>POINT (-86.20617 34.26019)</td>\n",
       "    </tr>\n",
       "    <tr>\n",
       "      <th>1</th>\n",
       "      <td>010000500871</td>\n",
       "      <td>Albertville High School</td>\n",
       "      <td>01</td>\n",
       "      <td>402 E McCord Ave</td>\n",
       "      <td>Albertville</td>\n",
       "      <td>AL</td>\n",
       "      <td>35950</td>\n",
       "      <td>01</td>\n",
       "      <td>01095</td>\n",
       "      <td>Marshall County</td>\n",
       "      <td>...</td>\n",
       "      <td>2</td>\n",
       "      <td>290</td>\n",
       "      <td>Huntsville-Decatur-Albertville, AL</td>\n",
       "      <td>N</td>\n",
       "      <td>N</td>\n",
       "      <td>0104</td>\n",
       "      <td>01026</td>\n",
       "      <td>01009</td>\n",
       "      <td>2017-2018</td>\n",
       "      <td>POINT (-86.20488 34.26223)</td>\n",
       "    </tr>\n",
       "    <tr>\n",
       "      <th>2</th>\n",
       "      <td>010000500879</td>\n",
       "      <td>Evans Elementary School</td>\n",
       "      <td>01</td>\n",
       "      <td>901 W McKinney Ave</td>\n",
       "      <td>Albertville</td>\n",
       "      <td>AL</td>\n",
       "      <td>35950</td>\n",
       "      <td>01</td>\n",
       "      <td>01095</td>\n",
       "      <td>Marshall County</td>\n",
       "      <td>...</td>\n",
       "      <td>2</td>\n",
       "      <td>290</td>\n",
       "      <td>Huntsville-Decatur-Albertville, AL</td>\n",
       "      <td>N</td>\n",
       "      <td>N</td>\n",
       "      <td>0104</td>\n",
       "      <td>01026</td>\n",
       "      <td>01009</td>\n",
       "      <td>2017-2018</td>\n",
       "      <td>POINT (-86.22014 34.27332)</td>\n",
       "    </tr>\n",
       "    <tr>\n",
       "      <th>3</th>\n",
       "      <td>010000500889</td>\n",
       "      <td>Albertville Elementary School</td>\n",
       "      <td>01</td>\n",
       "      <td>1100 Horton Rd</td>\n",
       "      <td>Albertville</td>\n",
       "      <td>AL</td>\n",
       "      <td>35950</td>\n",
       "      <td>01</td>\n",
       "      <td>01095</td>\n",
       "      <td>Marshall County</td>\n",
       "      <td>...</td>\n",
       "      <td>2</td>\n",
       "      <td>290</td>\n",
       "      <td>Huntsville-Decatur-Albertville, AL</td>\n",
       "      <td>N</td>\n",
       "      <td>N</td>\n",
       "      <td>0104</td>\n",
       "      <td>01026</td>\n",
       "      <td>01009</td>\n",
       "      <td>2017-2018</td>\n",
       "      <td>POINT (-86.22183 34.25325)</td>\n",
       "    </tr>\n",
       "    <tr>\n",
       "      <th>4</th>\n",
       "      <td>010000501616</td>\n",
       "      <td>Big Spring Lake Kindergarten School</td>\n",
       "      <td>01</td>\n",
       "      <td>257 Country Club Rd</td>\n",
       "      <td>Albertville</td>\n",
       "      <td>AL</td>\n",
       "      <td>35951</td>\n",
       "      <td>01</td>\n",
       "      <td>01095</td>\n",
       "      <td>Marshall County</td>\n",
       "      <td>...</td>\n",
       "      <td>2</td>\n",
       "      <td>290</td>\n",
       "      <td>Huntsville-Decatur-Albertville, AL</td>\n",
       "      <td>N</td>\n",
       "      <td>N</td>\n",
       "      <td>0104</td>\n",
       "      <td>01026</td>\n",
       "      <td>01009</td>\n",
       "      <td>2017-2018</td>\n",
       "      <td>POINT (-86.19329 34.28985)</td>\n",
       "    </tr>\n",
       "  </tbody>\n",
       "</table>\n",
       "<p>5 rows × 25 columns</p>\n",
       "</div>"
      ],
      "text/plain": [
       "        NCESSCH                                 NAME OPSTFIPS  \\\n",
       "0  010000500870            Albertville Middle School       01   \n",
       "1  010000500871              Albertville High School       01   \n",
       "2  010000500879              Evans Elementary School       01   \n",
       "3  010000500889        Albertville Elementary School       01   \n",
       "4  010000501616  Big Spring Lake Kindergarten School       01   \n",
       "\n",
       "                STREET         CITY STATE    ZIP STFIP   CNTY  \\\n",
       "0    600 E Alabama Ave  Albertville    AL  35950    01  01095   \n",
       "1     402 E McCord Ave  Albertville    AL  35950    01  01095   \n",
       "2   901 W McKinney Ave  Albertville    AL  35950    01  01095   \n",
       "3       1100 Horton Rd  Albertville    AL  35950    01  01095   \n",
       "4  257 Country Club Rd  Albertville    AL  35951    01  01095   \n",
       "\n",
       "            NMCNTY  ... CBSATYPE  CSA                               NMCSA  \\\n",
       "0  Marshall County  ...        2  290  Huntsville-Decatur-Albertville, AL   \n",
       "1  Marshall County  ...        2  290  Huntsville-Decatur-Albertville, AL   \n",
       "2  Marshall County  ...        2  290  Huntsville-Decatur-Albertville, AL   \n",
       "3  Marshall County  ...        2  290  Huntsville-Decatur-Albertville, AL   \n",
       "4  Marshall County  ...        2  290  Huntsville-Decatur-Albertville, AL   \n",
       "\n",
       "  NECTA NMNECTA    CD   SLDL   SLDU SCHOOLYEAR                    geometry  \n",
       "0     N       N  0104  01026  01009  2017-2018  POINT (-86.20617 34.26019)  \n",
       "1     N       N  0104  01026  01009  2017-2018  POINT (-86.20488 34.26223)  \n",
       "2     N       N  0104  01026  01009  2017-2018  POINT (-86.22014 34.27332)  \n",
       "3     N       N  0104  01026  01009  2017-2018  POINT (-86.22183 34.25325)  \n",
       "4     N       N  0104  01026  01009  2017-2018  POINT (-86.19329 34.28985)  \n",
       "\n",
       "[5 rows x 25 columns]"
      ]
     },
     "execution_count": 27,
     "metadata": {},
     "output_type": "execute_result"
    }
   ],
   "source": [
    "schools.head()"
   ]
  },
  {
   "cell_type": "code",
   "execution_count": 28,
   "id": "b7a392ec",
   "metadata": {},
   "outputs": [
    {
     "data": {
      "text/plain": [
       "Index(['NCESSCH', 'NAME', 'OPSTFIPS', 'STREET', 'CITY', 'STATE', 'ZIP',\n",
       "       'STFIP', 'CNTY', 'NMCNTY', 'LOCALE', 'LAT', 'LON', 'CBSA', 'NMCBSA',\n",
       "       'CBSATYPE', 'CSA', 'NMCSA', 'NECTA', 'NMNECTA', 'CD', 'SLDL', 'SLDU',\n",
       "       'SCHOOLYEAR', 'geometry'],\n",
       "      dtype='object')"
      ]
     },
     "execution_count": 28,
     "metadata": {},
     "output_type": "execute_result"
    }
   ],
   "source": [
    "schools.columns"
   ]
  },
  {
   "cell_type": "code",
   "execution_count": 29,
   "id": "ce9bfa81",
   "metadata": {},
   "outputs": [],
   "source": [
    "schools = schools[schools['CNTY']=='06065']"
   ]
  },
  {
   "cell_type": "code",
   "execution_count": 30,
   "id": "7daca2b7",
   "metadata": {},
   "outputs": [
    {
     "data": {
      "text/plain": [
       "<AxesSubplot:>"
      ]
     },
     "execution_count": 30,
     "metadata": {},
     "output_type": "execute_result"
    },
    {
     "data": {
      "image/png": "[encoded data removed]",
      "text/plain": [
       "<Figure size 432x288 with 1 Axes>"
      ]
     },
     "metadata": {
      "needs_background": "light"
     },
     "output_type": "display_data"
    }
   ],
   "source": [
    "schools.plot()"
   ]
  },
  {
   "cell_type": "code",
   "execution_count": 31,
   "id": "d10166d0",
   "metadata": {},
   "outputs": [],
   "source": [
    "# pip install git+https://github.com/martinfleis/geopandas-view.git\n",
    "\n",
    "from geopandas_view import view"
   ]
  },
  {
   "cell_type": "code",
   "execution_count": 36,
   "id": "223f4f81",
   "metadata": {},
   "outputs": [
    {
     "data": {
      "text/html": [
       "<div>\n",
       "<style scoped>\n",
       "    .dataframe tbody tr th:only-of-type {\n",
       "        vertical-align: middle;\n",
       "    }\n",
       "\n",
       "    .dataframe tbody tr th {\n",
       "        vertical-align: top;\n",
       "    }\n",
       "\n",
       "    .dataframe thead th {\n",
       "        text-align: right;\n",
       "    }\n",
       "</style>\n",
       "<table border=\"1\" class=\"dataframe\">\n",
       "  <thead>\n",
       "    <tr style=\"text-align: right;\">\n",
       "      <th></th>\n",
       "      <th>NCESSCH</th>\n",
       "      <th>NAME</th>\n",
       "      <th>OPSTFIPS</th>\n",
       "      <th>STREET</th>\n",
       "      <th>CITY</th>\n",
       "      <th>STATE</th>\n",
       "      <th>ZIP</th>\n",
       "      <th>STFIP</th>\n",
       "      <th>CNTY</th>\n",
       "      <th>NMCNTY</th>\n",
       "      <th>...</th>\n",
       "      <th>CBSATYPE</th>\n",
       "      <th>CSA</th>\n",
       "      <th>NMCSA</th>\n",
       "      <th>NECTA</th>\n",
       "      <th>NMNECTA</th>\n",
       "      <th>CD</th>\n",
       "      <th>SLDL</th>\n",
       "      <th>SLDU</th>\n",
       "      <th>SCHOOLYEAR</th>\n",
       "      <th>geometry</th>\n",
       "    </tr>\n",
       "  </thead>\n",
       "  <tbody>\n",
       "    <tr>\n",
       "      <th>5576</th>\n",
       "      <td>060000710348</td>\n",
       "      <td>California School for the Deaf-Riverside</td>\n",
       "      <td>06</td>\n",
       "      <td>3044 Horace St.</td>\n",
       "      <td>Riverside</td>\n",
       "      <td>CA</td>\n",
       "      <td>92506</td>\n",
       "      <td>06</td>\n",
       "      <td>06065</td>\n",
       "      <td>Riverside County</td>\n",
       "      <td>...</td>\n",
       "      <td>1</td>\n",
       "      <td>348</td>\n",
       "      <td>Los Angeles-Long Beach, CA</td>\n",
       "      <td>N</td>\n",
       "      <td>N</td>\n",
       "      <td>0641</td>\n",
       "      <td>06061</td>\n",
       "      <td>06031</td>\n",
       "      <td>2017-2018</td>\n",
       "      <td>POINT (-117.37942 33.94373)</td>\n",
       "    </tr>\n",
       "    <tr>\n",
       "      <th>5727</th>\n",
       "      <td>060002702451</td>\n",
       "      <td>Tuscany Hills Elementary</td>\n",
       "      <td>06</td>\n",
       "      <td>23 Ponte Russo</td>\n",
       "      <td>Lake Elsinore</td>\n",
       "      <td>CA</td>\n",
       "      <td>92532</td>\n",
       "      <td>06</td>\n",
       "      <td>06065</td>\n",
       "      <td>Riverside County</td>\n",
       "      <td>...</td>\n",
       "      <td>1</td>\n",
       "      <td>348</td>\n",
       "      <td>Los Angeles-Long Beach, CA</td>\n",
       "      <td>N</td>\n",
       "      <td>N</td>\n",
       "      <td>0642</td>\n",
       "      <td>06067</td>\n",
       "      <td>06028</td>\n",
       "      <td>2017-2018</td>\n",
       "      <td>POINT (-117.28897 33.68620)</td>\n",
       "    </tr>\n",
       "    <tr>\n",
       "      <th>5728</th>\n",
       "      <td>060002702452</td>\n",
       "      <td>Donald Graham Elementary</td>\n",
       "      <td>06</td>\n",
       "      <td>35450 Frederick St.</td>\n",
       "      <td>Wildomar</td>\n",
       "      <td>CA</td>\n",
       "      <td>92595</td>\n",
       "      <td>06</td>\n",
       "      <td>06065</td>\n",
       "      <td>Riverside County</td>\n",
       "      <td>...</td>\n",
       "      <td>1</td>\n",
       "      <td>348</td>\n",
       "      <td>Los Angeles-Long Beach, CA</td>\n",
       "      <td>N</td>\n",
       "      <td>N</td>\n",
       "      <td>0642</td>\n",
       "      <td>06067</td>\n",
       "      <td>06028</td>\n",
       "      <td>2017-2018</td>\n",
       "      <td>POINT (-117.25699 33.60594)</td>\n",
       "    </tr>\n",
       "    <tr>\n",
       "      <th>5729</th>\n",
       "      <td>060002705011</td>\n",
       "      <td>David A. Brown Middle</td>\n",
       "      <td>06</td>\n",
       "      <td>21861 Grand Ave.</td>\n",
       "      <td>Wildomar</td>\n",
       "      <td>CA</td>\n",
       "      <td>92595</td>\n",
       "      <td>06</td>\n",
       "      <td>06065</td>\n",
       "      <td>Riverside County</td>\n",
       "      <td>...</td>\n",
       "      <td>1</td>\n",
       "      <td>348</td>\n",
       "      <td>Los Angeles-Long Beach, CA</td>\n",
       "      <td>N</td>\n",
       "      <td>N</td>\n",
       "      <td>0642</td>\n",
       "      <td>06067</td>\n",
       "      <td>06028</td>\n",
       "      <td>2017-2018</td>\n",
       "      <td>POINT (-117.27617 33.59164)</td>\n",
       "    </tr>\n",
       "    <tr>\n",
       "      <th>5730</th>\n",
       "      <td>060002707605</td>\n",
       "      <td>William Collier Elementary</td>\n",
       "      <td>06</td>\n",
       "      <td>20150 Mayhall Dr.</td>\n",
       "      <td>Wildomar</td>\n",
       "      <td>CA</td>\n",
       "      <td>92595</td>\n",
       "      <td>06</td>\n",
       "      <td>06065</td>\n",
       "      <td>Riverside County</td>\n",
       "      <td>...</td>\n",
       "      <td>1</td>\n",
       "      <td>348</td>\n",
       "      <td>Los Angeles-Long Beach, CA</td>\n",
       "      <td>N</td>\n",
       "      <td>N</td>\n",
       "      <td>0642</td>\n",
       "      <td>06067</td>\n",
       "      <td>06028</td>\n",
       "      <td>2017-2018</td>\n",
       "      <td>POINT (-117.30098 33.61655)</td>\n",
       "    </tr>\n",
       "  </tbody>\n",
       "</table>\n",
       "<p>5 rows × 25 columns</p>\n",
       "</div>"
      ],
      "text/plain": [
       "           NCESSCH                                      NAME OPSTFIPS  \\\n",
       "5576  060000710348  California School for the Deaf-Riverside       06   \n",
       "5727  060002702451                  Tuscany Hills Elementary       06   \n",
       "5728  060002702452                  Donald Graham Elementary       06   \n",
       "5729  060002705011                     David A. Brown Middle       06   \n",
       "5730  060002707605                William Collier Elementary       06   \n",
       "\n",
       "                   STREET           CITY STATE    ZIP STFIP   CNTY  \\\n",
       "5576      3044 Horace St.      Riverside    CA  92506    06  06065   \n",
       "5727       23 Ponte Russo  Lake Elsinore    CA  92532    06  06065   \n",
       "5728  35450 Frederick St.       Wildomar    CA  92595    06  06065   \n",
       "5729     21861 Grand Ave.       Wildomar    CA  92595    06  06065   \n",
       "5730    20150 Mayhall Dr.       Wildomar    CA  92595    06  06065   \n",
       "\n",
       "                NMCNTY  ... CBSATYPE  CSA                       NMCSA NECTA  \\\n",
       "5576  Riverside County  ...        1  348  Los Angeles-Long Beach, CA     N   \n",
       "5727  Riverside County  ...        1  348  Los Angeles-Long Beach, CA     N   \n",
       "5728  Riverside County  ...        1  348  Los Angeles-Long Beach, CA     N   \n",
       "5729  Riverside County  ...        1  348  Los Angeles-Long Beach, CA     N   \n",
       "5730  Riverside County  ...        1  348  Los Angeles-Long Beach, CA     N   \n",
       "\n",
       "     NMNECTA    CD   SLDL   SLDU SCHOOLYEAR                     geometry  \n",
       "5576       N  0641  06061  06031  2017-2018  POINT (-117.37942 33.94373)  \n",
       "5727       N  0642  06067  06028  2017-2018  POINT (-117.28897 33.68620)  \n",
       "5728       N  0642  06067  06028  2017-2018  POINT (-117.25699 33.60594)  \n",
       "5729       N  0642  06067  06028  2017-2018  POINT (-117.27617 33.59164)  \n",
       "5730       N  0642  06067  06028  2017-2018  POINT (-117.30098 33.61655)  \n",
       "\n",
       "[5 rows x 25 columns]"
      ]
     },
     "execution_count": 36,
     "metadata": {},
     "output_type": "execute_result"
    }
   ],
   "source": [
    "schools.head()"
   ]
  },
  {
   "cell_type": "code",
   "execution_count": 40,
   "id": "38ce38f5",
   "metadata": {},
   "outputs": [
    {
     "data": {
      "text/plain": [
       "(511, 25)"
      ]
     },
     "execution_count": 40,
     "metadata": {},
     "output_type": "execute_result"
    }
   ],
   "source": [
    "schools.shape"
   ]
  },
  {
   "cell_type": "code",
   "execution_count": 42,
   "id": "a1fa4c03",
   "metadata": {},
   "outputs": [
    {
     "data": {
      "text/plain": [
       "<AxesSubplot:>"
      ]
     },
     "execution_count": 42,
     "metadata": {},
     "output_type": "execute_result"
    },
    {
     "data": {
      "image/png": "[encoded data removed]",
      "text/plain": [
       "<Figure size 432x288 with 1 Axes>"
      ]
     },
     "metadata": {
      "needs_background": "light"
     },
     "output_type": "display_data"
    }
   ],
   "source": [
    "schools.plot()"
   ]
  },
  {
   "cell_type": "code",
   "execution_count": 45,
   "id": "8b4fdc07",
   "metadata": {},
   "outputs": [
    {
     "name": "stderr",
     "output_type": "stream",
     "text": [
      "/opt/tljh/user/lib/python3.7/site-packages/ipykernel_launcher.py:1: UserWarning: this is an initial implementation of Parquet/Feather file support and associated metadata.  This is tracking version 0.1.0 of the metadata specification at https://github.com/geopandas/geo-arrow-spec\n",
      "\n",
      "This metadata specification does not yet make stability promises.  We do not yet recommend using this in a production setting unless you are able to rewrite your Parquet/Feather files.\n",
      "\n",
      "To further ignore this warning, you can do: \n",
      "import warnings; warnings.filterwarnings('ignore', message='.*initial implementation of Parquet.*')\n",
      "  \"\"\"Entry point for launching an IPython kernel.\n"
     ]
    }
   ],
   "source": [
    "schools.to_parquet('schools_1718.parquet')"
   ]
  },
  {
   "cell_type": "code",
   "execution_count": 46,
   "id": "c6e9dfc6",
   "metadata": {},
   "outputs": [],
   "source": [
    "import geopandas as gpd"
   ]
  },
  {
   "cell_type": "code",
   "execution_count": 47,
   "id": "e3b7a7ce",
   "metadata": {},
   "outputs": [],
   "source": [
    "californiaschools = gpd.read_parquet('schools_1718.parquet')"
   ]
  },
  {
   "cell_type": "code",
   "execution_count": 48,
   "id": "5eaff106",
   "metadata": {},
   "outputs": [
    {
     "data": {
      "text/plain": [
       "<AxesSubplot:>"
      ]
     },
     "execution_count": 48,
     "metadata": {},
     "output_type": "execute_result"
    },
    {
     "data": {
      "image/png": "[encoded data removed]",
      "text/plain": [
       "<Figure size 432x288 with 1 Axes>"
      ]
     },
     "metadata": {
      "needs_background": "light"
     },
     "output_type": "display_data"
    }
   ],
   "source": [
    "californiaschools.plot()"
   ]
  },
  {
   "cell_type": "code",
   "execution_count": null,
   "id": "9108c85f",
   "metadata": {},
   "outputs": [],
   "source": []
  }
 ],
 "metadata": {
  "kernelspec": {
   "display_name": "Python 3",
   "language": "python",
   "name": "python3"
  },
  "language_info": {
   "codemirror_mode": {
    "name": "ipython",
    "version": 3
   },
   "file_extension": ".py",
   "mimetype": "text/x-python",
   "name": "python",
   "nbconvert_exporter": "python",
   "pygments_lexer": "ipython3",
   "version": "3.7.3"
  }
 },
 "nbformat": 4,
 "nbformat_minor": 5
}
